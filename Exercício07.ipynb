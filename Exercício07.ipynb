{
 "cells": [
  {
   "cell_type": "markdown",
   "metadata": {},
   "source": [
    " 1. Crie uma lista de filmes com 7 filmes a sua escolha, e faça as seguintes operações com ela:\n",
    "• Exiba apenas o primeiro o filme da lista\n",
    "• Exiba o filme da posição 4\n",
    "• Substitua o filme da última posição e exiba a lista\n",
    "• Insira um novo filme no final da lista e exiba a lista\n",
    "• Insira um novo filme na posição 5 e exiba a lista\n",
    "• Exclua o primeiro filme e exiba a lista\n",
    "• Exclua o último filme e exiba a lista\n",
    "• Exiba os 3 primeiros filmes da lista\n",
    "• Exiba os 4 últimos filmes da lista\n",
    "• Exiba a quantidade de filmes atualmente na lista\n",
    "• Ordene os filmes em ordem decrescente e exiba-os"
   ]
  },
  {
   "cell_type": "code",
   "execution_count": 17,
   "metadata": {},
   "outputs": [
    {
     "name": "stdout",
     "output_type": "stream",
     "text": [
      "top guns\n",
      "['Doutor estranho', 'Ate o ultimo homem', 'O resgate do soldado rain', 'A espera de um milagre', 'top guns', 'top guns Maveric', 'Open raimer']\n",
      "['Doutor estranho', 'Ate o ultimo homem', 'O resgate do soldado rain', 'A espera de um milagre', 'top guns', 'top guns Maveric', 'Open raimer', 'Tropa de elite']\n",
      "['Doutor estranho', 'Ate o ultimo homem', 'O resgate do soldado rain', 'A espera de um milagre', 'top guns', 'devolta para o futuro', 'top guns Maveric', 'Open raimer', 'Tropa de elite']\n",
      "['Ate o ultimo homem', 'O resgate do soldado rain', 'A espera de um milagre', 'top guns', 'devolta para o futuro', 'top guns Maveric', 'Open raimer', 'Tropa de elite']\n",
      "['Ate o ultimo homem', 'O resgate do soldado rain', 'A espera de um milagre', 'top guns', 'devolta para o futuro', 'top guns Maveric', 'Open raimer']\n",
      "['Ate o ultimo homem', 'O resgate do soldado rain', 'A espera de um milagre', 'top guns']\n",
      "7\n",
      "['A espera de um milagre', 'Ate o ultimo homem', 'O resgate do soldado rain', 'Open raimer', 'devolta para o futuro', 'top guns', 'top guns Maveric']\n"
     ]
    }
   ],
   "source": [
    "filmes = ['Doutor estranho', 'Ate o ultimo homem', 'O resgate do soldado rain', 'A espera de um milagre', 'top guns', 'top guns Maveric', 'A menina que acreditava em milagre']\n",
    "print(filmes[4])\n",
    "filmes[6] = 'Open raimer'\n",
    "print(filmes)\n",
    "filmes.append('Tropa de elite')\n",
    "print(filmes)\n",
    "filmes.insert(5, 'devolta para o futuro')\n",
    "print(filmes)\n",
    "del filmes [0]\n",
    "print(filmes)\n",
    "del filmes [-1]\n",
    "print(filmes)\n",
    "print(filmes[0:4])\n",
    "print(len(filmes))\n",
    "filmes.sort()\n",
    "print(filmes)"
   ]
  },
  {
   "cell_type": "markdown",
   "metadata": {},
   "source": [
    "2. Crie uma lista com os 20 times do campeonato brasileiro de futebol\n",
    "• Exiba o primeiro time da lista como campeão\n",
    "• Exiba os 4 primeiros times como que irão jogar a libertadores\n",
    "• Exiba os 4 últimos times como os que estão rebaixados para a série B"
   ]
  },
  {
   "cell_type": "code",
   "execution_count": 26,
   "metadata": {},
   "outputs": [
    {
     "name": "stdout",
     "output_type": "stream",
     "text": [
      "Palmeras \n",
      "('Palmeras ', 'Athletico', 'Atlético-GO ', 'Atlético-MG')\n",
      "('Juventude', 'Corinthians', 'Vasco', 'Vitória')\n"
     ]
    }
   ],
   "source": [
    "time = 'Palmeras ', 'Athletico', 'Atlético-GO ','Atlético-MG','Bahia','Botafogo','Bragantino','São Paulo', 'Criciúma ','Cruzeiro','Cuiabá', 'Flamengo', 'Fluminense', 'Fortaleza', 'Grêmio', 'Internacional', 'Juventude', 'Corinthians', 'Vasco','Vitória'\n",
    "print(time[0]) \n",
    "print(time[0:4])\n",
    "print(time[-4:])"
   ]
  }
 ],
 "metadata": {
  "kernelspec": {
   "display_name": "Python 3",
   "language": "python",
   "name": "python3"
  },
  "language_info": {
   "codemirror_mode": {
    "name": "ipython",
    "version": 3
   },
   "file_extension": ".py",
   "mimetype": "text/x-python",
   "name": "python",
   "nbconvert_exporter": "python",
   "pygments_lexer": "ipython3",
   "version": "3.12.3"
  }
 },
 "nbformat": 4,
 "nbformat_minor": 2
}
