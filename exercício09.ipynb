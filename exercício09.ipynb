{
 "cells": [
  {
   "cell_type": "markdown",
   "metadata": {},
   "source": [
    " 1. Crie uma função sem parâmetros que exiba uma linha com 50 * , e uma mensagem de boas\n",
    "vindas, chame essa função por 4 vezes"
   ]
  },
  {
   "cell_type": "code",
   "execution_count": 2,
   "metadata": {},
   "outputs": [
    {
     "name": "stdout",
     "output_type": "stream",
     "text": [
      "**************************************************\n",
      "Seja Bem Vindo\n"
     ]
    }
   ],
   "source": [
    "def mensagem(texto):\n",
    "    print('*' * 50)\n",
    "    print(texto)\n",
    "\n",
    "mensagem('Seja Bem Vindo')"
   ]
  },
  {
   "cell_type": "markdown",
   "metadata": {},
   "source": [
    "2. Crie uma função que contenha uma lista com as cores primárias e exiba cada cor em uma\n",
    "linha"
   ]
  },
  {
   "cell_type": "code",
   "execution_count": 5,
   "metadata": {},
   "outputs": [
    {
     "name": "stdout",
     "output_type": "stream",
     "text": [
      "vermelho\n",
      "azul\n",
      "amarelo\n"
     ]
    }
   ],
   "source": [
    "def cores (lista) :\n",
    "    for cor in lista :\n",
    "        print (cor)\n",
    "\n",
    "coresprimarias = ['vermelho', 'azul', 'amarelo']\n",
    "cores(coresprimarias)\n"
   ]
  },
  {
   "cell_type": "markdown",
   "metadata": {},
   "source": [
    "3. Crie uma função que recebe um número como parâmetro e exiba a tabuada até o 10, chame\n",
    "essa função por 3 vezes enviando parâmetros diferentes"
   ]
  },
  {
   "cell_type": "code",
   "execution_count": 18,
   "metadata": {},
   "outputs": [
    {
     "name": "stdout",
     "output_type": "stream",
     "text": [
      "32 X 0 = 0\n",
      "32 X 1 = 32\n",
      "32 X 2 = 64\n",
      "32 X 3 = 96\n",
      "32 X 4 = 128\n",
      "32 X 5 = 160\n",
      "32 X 6 = 192\n",
      "32 X 7 = 224\n",
      "32 X 8 = 256\n",
      "32 X 9 = 288\n",
      "32 X 10 = 320\n"
     ]
    }
   ],
   "source": [
    "def tabuada(nr) :\n",
    "    for x in range (11) :\n",
    "            print (f'{nr} X {x} = {nr * x}')\n",
    "tabuada(32)"
   ]
  },
  {
   "cell_type": "markdown",
   "metadata": {},
   "source": [
    "Atividade 4 "
   ]
  },
  {
   "cell_type": "code",
   "execution_count": 33,
   "metadata": {},
   "outputs": [],
   "source": [
    "def cal ( n1, n2, op) :\n",
    "    if op == '+' :\n",
    "        res = n1 + n2\n",
    "    elif op == '-' :\n",
    "        res = n1 - n2 \n",
    "    elif op == '*' :\n",
    "        res = n1 * n2 \n",
    "    elif op == '/' :\n",
    "        res = n1 / n2 \n",
    "    elif op == '**' :\n",
    "        res = n1 ** n2 \n",
    "    else:\n",
    "        res = 'digite um operador valido'\n",
    "        print(res)\n",
    "\n",
    "cal(6, 7, '**')"
   ]
  },
  {
   "cell_type": "markdown",
   "metadata": {},
   "source": [
    "Atividade 5"
   ]
  },
  {
   "cell_type": "code",
   "execution_count": 49,
   "metadata": {},
   "outputs": [
    {
     "name": "stdout",
     "output_type": "stream",
     "text": [
      ",;°ROWCD\n"
     ]
    }
   ],
   "source": [
    "import random\n",
    "\n",
    "def SenhaAleatoria(tamanho : int) :\n",
    "    listacatacteres = 'qwertyuiopasdfghjklçzxcvbnmQWERTYUIOPSDFGHJKLÇZXCVBNM123456789!@#$%¨&*()=§´`{}[];:.,~^ºª-_|°?'\n",
    "    senha = ''\n",
    "    for i in range (tamanho) :\n",
    "        senha = senha + random.choice(listacatacteres)\n",
    "\n",
    "    return(senha)\n",
    "senhaTemp = SenhaAleatoria(8)\n",
    "print (senhaTemp)"
   ]
  }
 ],
 "metadata": {
  "kernelspec": {
   "display_name": "Python 3",
   "language": "python",
   "name": "python3"
  },
  "language_info": {
   "codemirror_mode": {
    "name": "ipython",
    "version": 3
   },
   "file_extension": ".py",
   "mimetype": "text/x-python",
   "name": "python",
   "nbconvert_exporter": "python",
   "pygments_lexer": "ipython3",
   "version": "3.12.3"
  }
 },
 "nbformat": 4,
 "nbformat_minor": 2
}
