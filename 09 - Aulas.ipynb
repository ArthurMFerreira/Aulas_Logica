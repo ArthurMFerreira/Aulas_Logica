{
 "cells": [
  {
   "cell_type": "markdown",
   "metadata": {},
   "source": [
    "Aula 16/02/2024 - \n",
    "Comandos de saída (print) / \n",
    "Tipos de dados (string, int, float, bool) / \n",
    "Operações Aritméticas ( + - * / % **)"
   ]
  },
  {
   "cell_type": "code",
   "execution_count": null,
   "metadata": {},
   "outputs": [],
   "source": [
    "#Este é o meu primeiro código\n",
    "#a função print serve para exibir na tela alguma mensagem\n",
    "print('Olá, mundo!!')\n",
    "\n",
    "print(\"Meu primeiro código em Python. Usando aspas duplas\")\n",
    "print('Meu primeiro código em Python. Usando aspas simples')\n",
    "print('Para duplicar uma linha pressionei shift + alt + Seta Baixo ')\n",
    "\n",
    "print(123)  #Estou exibindo um número inteiro, por isso, não preciso da \"\"\n",
    "print(70.5) #Número float\n",
    "print(True) #Campo lógico (Verdadeiro ou falso) (True ou False)\n",
    "print(\"Sesi\") #Tipo string\n",
    "\n",
    "# Somando 2 números inteiros (o sinal de + para 2 números realiza a SOMA)\n",
    "print(8 + 6)\n",
    "# Porém se forem 2 strings (o sinal de + realiza a CONCATENAÇÃO)\n",
    "print('8' + '6')\n",
    "\n",
    "#Posso imprimir várias informações ao mesmo tempo separando-as por ,\n",
    "print ('string', 10, 70.5, False)\n",
    "\n",
    "print( 10 + 50 )  # + é o operador de SOMA (numero inteiro ou decimal)\n",
    "print( 67 - 13 )  # - é o operador de SUBTRAÇÃO (nº inteiro ou decimal)\n",
    "print( 4214328 * 312321 ) # * é o operador de MULTIPLICAÇÃO\n",
    "print( 4827 / 3 ) # / é o operador de DIVISÃO\n",
    "print( 31 % 3 )   # % é o operador do resto da divisão (MÓDULO)\n",
    "print( 3 ** 3 )   # ** é o operador de exponenciação 3³\n",
    " \n",
    "print ( (8 + 6) / 2) # O Parênteses define a maior ordem de precedência\n"
   ]
  },
  {
   "cell_type": "markdown",
   "metadata": {},
   "source": [
    "Aula 22/02/2024 - Comandos de entrada (input) / Variáveis / Pseudocódigo"
   ]
  },
  {
   "cell_type": "code",
   "execution_count": 36,
   "metadata": {},
   "outputs": [
    {
     "name": "stdout",
     "output_type": "stream",
     "text": [
      "curso\n",
      "Desenvolvimento de Sistemas\n",
      "curso Desenvolvimento de Sistemas\n",
      "Olá Douglas , você tem 36 anos, hoje está fazendo 23.5 ºC\n",
      "Olá Douglas, você tem 36 anos, hoje está fazendo 23.5ºC \n",
      "Douglas 36\n",
      "Ricardo 34\n"
     ]
    },
    {
     "name": "stdout",
     "output_type": "stream",
     "text": [
      "123 3 2.0\n",
      "Seu nome é 123, você tem 3 anos e pesa 2.0kg\n",
      "<class 'str'> <class 'int'> <class 'float'>\n"
     ]
    }
   ],
   "source": [
    "#Declarando minha primeira variável\n",
    "#lemos da seguinte forma:\n",
    "#variavel curso recebe(=) a string \"Desenvolvimento de Sistemas\"\n",
    "#Receba/Armazene o texto \"Desenvolvimento de Sistemas\"\n",
    "curso = \"Desenvolvimento de Sistemas\"\n",
    "#Exiba o valor armazenado\n",
    "print(\"curso\")   # Para imprimir uma variável não se coloca entre \" \"\n",
    "print(curso)     # Jeito correte de utilizar uma variável\n",
    "print(\"curso\", curso )\n",
    "\n",
    "#Criando e atribuindo uma variavel\n",
    "idade = 36\n",
    "temperatura = 23.5\n",
    "nome = \"Douglas\"\n",
    "#Exiba o valor das 3 variáveis\n",
    "#\"Olá Douglas, você tem 36 anos, hoje está fazendo 23.5 ºC \"\n",
    "print(\"Olá\", nome , \", você tem\", idade ,\"anos, hoje está fazendo\", temperatura, \"ºC\")\n",
    "print(f'Olá {nome}, você tem {idade} anos, hoje está fazendo {temperatura}ºC ')\n",
    "\n",
    "#Declarando variáveis lógicas, recebe apenas True ou False\n",
    "chovendo = False\n",
    "dia = True\n",
    "\n",
    "# Nesta linha abaixo ocorrerá um erro pois não existe uma variável com o \n",
    "# nome salario, então não consegue encontrar nada para exibir\n",
    "# NameError: name 'salario' is not defined\n",
    "# print(\"Salario\", salario)\n",
    "\n",
    "#Declarando um constante, diferentemente da variável que posso alterar o valor\n",
    "# na constante não é permitido, declaramos com o nome todo em maiuscula\n",
    "PI = 3.1415\n",
    "\n",
    "print(nome, idade)\n",
    "idade = 34\n",
    "nome = \"Ricardo\"\n",
    "print(nome, idade)\n",
    "\n",
    "#Passo 1: Receber o nome da pessoa\n",
    "#No input sempre recebemos uma string\n",
    "nome = input('Qual é o seu nome?')\n",
    "#Passo 2: Receber a idade da pessoa\n",
    "#Posso converter essa string recebida do tipo inteiro\n",
    "idade = int(input('Qual é a sua idade?'))\n",
    "#Passo 3: Receber o peso da pessoa\n",
    "#Posso converter essa string recebida do tipo float\n",
    "peso = float(input('Qual é o seu peso?'))\n",
    "#Passo 4: Exibir o noe, a idade e o peso\n",
    "print (nome, idade, peso) \n",
    "print (f'Seu nome é {nome}, você tem {idade} anos e pesa {peso}kg')\n",
    "\n",
    "#Exibindo os tipos das variáveis\n",
    "#Tudo o que recebemos do input é do tipo string\n",
    "print(type(nome), type(idade), type(peso))\n"
   ]
  },
  {
   "cell_type": "markdown",
   "metadata": {},
   "source": [
    "23/02/2024 - Operação com variaveis "
   ]
  },
  {
   "cell_type": "code",
   "execution_count": 3,
   "metadata": {},
   "outputs": [
    {
     "name": "stdout",
     "output_type": "stream",
     "text": [
      "45703.0\n"
     ]
    }
   ],
   "source": [
    "#Receber o primeiro número \n",
    "Numero1 = float(input(\"Digite o primeiro numero \"))\n",
    "#Recebe o segundo número\n",
    "Numero2 = float(input(\"Digite o segundo numero\"))\n",
    "#Receba o terseiro número \n",
    "Numero3 = float(input(\"Digite  terseiro numero\"))\n",
    "#Soma o primeiro número + o segundo número\n",
    "Soma = Numero1 + Numero2 + Numero3\n",
    "#Exibe o resultado da soma \n",
    "print(Soma)"
   ]
  },
  {
   "cell_type": "code",
   "execution_count": 12,
   "metadata": {},
   "outputs": [
    {
     "name": "stdout",
     "output_type": "stream",
     "text": [
      "5.8466358266923566e+231\n"
     ]
    }
   ],
   "source": [
    "Numero1 = float(input(\"Digite o primeiro numero\")) \n",
    "Numero2 = float(input(\"Digite o segundo numero\"))\n",
    "Munltiplicacao = Numero1 ** Numero2\n",
    "print(Munltiplicacao)"
   ]
  },
  {
   "cell_type": "code",
   "execution_count": 11,
   "metadata": {},
   "outputs": [
    {
     "name": "stdout",
     "output_type": "stream",
     "text": [
      "4913.0\n"
     ]
    }
   ],
   "source": [
    "print(float(input(\"Digite o primeiro numero\")) ** float(input(\"Digite o segundo numero\")))"
   ]
  },
  {
   "cell_type": "code",
   "execution_count": 3,
   "metadata": {},
   "outputs": [
    {
     "name": "stdout",
     "output_type": "stream",
     "text": [
      "2310.0\n",
      "Você obteve um desconto de R$ 190.0 e pagou R$ 2310.0\n"
     ]
    }
   ],
   "source": [
    "preco = float(input(\"Digite o valor do celular\"))\n",
    "desconto = float (input(\"digite o valor do desconto\"))\n",
    "preco = preco - desconto\n",
    "print(preco)\n",
    "print(f\"Você obteve um desconto de R$ {desconto} e pagou R$ {preco}\")"
   ]
  },
  {
   "cell_type": "code",
   "execution_count": 1,
   "metadata": {},
   "outputs": [
    {
     "name": "stdout",
     "output_type": "stream",
     "text": [
      "2.0\n",
      "4.0\n",
      "120.0\n",
      "O valor final é 120.0\n"
     ]
    }
   ],
   "source": [
    "Numero = 4 / 2\n",
    "print(Numero)\n",
    "Numero = Numero ** 2 \n",
    "print(Numero)\n",
    "Numero = Numero * (50 - 20)\n",
    "print(Numero)\n",
    "print(f\"O valor final é {Numero}\")"
   ]
  },
  {
   "cell_type": "code",
   "execution_count": 13,
   "metadata": {},
   "outputs": [
    {
     "name": "stdout",
     "output_type": "stream",
     "text": [
      "Você deve cobrar 12000\n"
     ]
    }
   ],
   "source": [
    "Horas_por_dia = 8\n",
    "Dias_totais = 15\n",
    "Horas_trabalho = Horas_por_dia * Dias_totais\n",
    "Custo_hora = 100\n",
    "custo_total = Horas_trabalho *Custo_hora\n",
    "print(f\"Você deve cobrar {custo_total}\")"
   ]
  },
  {
   "cell_type": "markdown",
   "metadata": {},
   "source": [
    "01/03/2024 - Operadores alógicos e Estrutura Condicional "
   ]
  },
  {
   "cell_type": "code",
   "execution_count": 12,
   "metadata": {},
   "outputs": [
    {
     "name": "stdout",
     "output_type": "stream",
     "text": [
      "False\n",
      "False\n",
      "True\n"
     ]
    }
   ],
   "source": [
    "a = 2\n",
    "b = 3\n",
    "c = 5\n",
    "print((a > 2) and (b < 2))\n",
    "print((a > 2) or (b < 2))\n",
    "print((a > 2) or (b < 5))"
   ]
  },
  {
   "cell_type": "code",
   "execution_count": 2,
   "metadata": {},
   "outputs": [
    {
     "name": "stdout",
     "output_type": "stream",
     "text": [
      "peso ideal\n"
     ]
    }
   ],
   "source": [
    "altura = float(input('digite sua altura'))\n",
    "peso = float(input('digite seu peso'))\n",
    "imc = peso / (altura**2)\n",
    "if imc < 18.5 :\n",
    "    print(\"abaixo do peso ideal \")\n",
    "elif imc >= 18.6 and imc <=24.9 :\n",
    "    print(\"peso ideal\")\n",
    "elif imc >= 25 and imc <= 29.9 :\n",
    "    print(\"sobrepeso\")\n",
    "else :\n",
    "    print ('OBESIDADE!!!')"
   ]
  },
  {
   "cell_type": "code",
   "execution_count": 1,
   "metadata": {},
   "outputs": [
    {
     "name": "stdout",
     "output_type": "stream",
     "text": [
      "Triangulo Equilatero\n"
     ]
    }
   ],
   "source": [
    "Lado1 = input('digite lado 1')\n",
    "Lado2 = input('digite lado 2')\n",
    "Lado3 = input('digite lado 3')\n",
    "if (Lado1 == Lado2) and (Lado2 == Lado3) :\n",
    "    print('Triangulo Equilatero')\n",
    "elif (Lado1 != Lado2) and (Lado2 != Lado3) and (Lado3 != Lado1) :\n",
    "    print ('Triangulo Escaleno')\n",
    "else :\n",
    "    print('Triangulo Isocenes')"
   ]
  },
  {
   "cell_type": "code",
   "execution_count": 15,
   "metadata": {},
   "outputs": [
    {
     "name": "stdout",
     "output_type": "stream",
     "text": [
      "a letra r não é uma vogal\n"
     ]
    }
   ],
   "source": [
    "letra = input('digite uma letra')\n",
    "if letra == 'a'or letra == 'e' or letra == 'i' or letra == 'o' or letra == 'u' :\n",
    "    print (f'a letra {letra} é uma vogal')\n",
    "else :\n",
    "    print (f'a letra {letra} não é uma vogal')"
   ]
  },
  {
   "cell_type": "markdown",
   "metadata": {},
   "source": [
    "07/03/2024 - estrutura comdicional / match case"
   ]
  },
  {
   "cell_type": "code",
   "execution_count": 13,
   "metadata": {},
   "outputs": [
    {
     "name": "stdout",
     "output_type": "stream",
     "text": [
      "você não pode votar\n"
     ]
    }
   ],
   "source": [
    "idade = int (input('digite sua idade'))\n",
    "if idade >= 18 and idade <= 70 :\n",
    "    print('você é obrigabo a votar')\n",
    "else:\n",
    "    if idade < 16 :\n",
    "        print(\"você não pode votar\")\n",
    "    else :\n",
    "        if idade >= 16 or idade > 70 :\n",
    "            print('seu voto é facultativo')\n"
   ]
  },
  {
   "cell_type": "code",
   "execution_count": 12,
   "metadata": {},
   "outputs": [
    {
     "name": "stdout",
     "output_type": "stream",
     "text": [
      "363 / 653657 = 0.0005553371263522\n"
     ]
    }
   ],
   "source": [
    "n1 = int(input('digite numero 1 '))\n",
    "n2 = int(input('digite numero 2 ')) \n",
    "op = input(\"digite o operador +,-,*,/,**\")\n",
    "match op :\n",
    "    case '+' :\n",
    "        print(f'{n1} + {n2} = {n1+n2}')\n",
    "    case '-' :\n",
    "        print(f'{n1} - {n2} = {n1-n2}')\n",
    "    case \"*\" :\n",
    "        print(f'{n1} * {n2} = {n1*n2}')\n",
    "    case '/' :\n",
    "        print(f'{n1} / {n2} = {n1/n2}')\n",
    "    case '**' :\n",
    "        print(f'{n1} ** {n2} = {n1**n2}')\n",
    "    case _ :\n",
    "        print('operador invalido')"
   ]
  },
  {
   "cell_type": "markdown",
   "metadata": {},
   "source": [
    "08/03/2024 - laço de repetição - while"
   ]
  },
  {
   "cell_type": "code",
   "execution_count": 7,
   "metadata": {},
   "outputs": [
    {
     "name": "stdout",
     "output_type": "stream",
     "text": [
      "eu vou prestar a atenção na aula 1\n",
      "FIM\n"
     ]
    }
   ],
   "source": [
    "x = 1\n",
    "while x <= 10 :\n",
    "    print('eu vou prestar a atenção na aula', x)\n",
    "    x = x + 1\n",
    "print('FIM')\n"
   ]
  },
  {
   "cell_type": "code",
   "execution_count": 11,
   "metadata": {},
   "outputs": [
    {
     "name": "stdout",
     "output_type": "stream",
     "text": [
      "10\n",
      "9\n",
      "8\n",
      "7\n",
      "6\n",
      "5\n",
      "4\n",
      "3\n",
      "2\n",
      "1\n",
      "0\n",
      "FELIZ ANO NOVO!!!!🎆🎆🎆🎆🎆🎆🎆🎇🎇🎇🎇🎇🎆🎆🎆🎉🎉\n"
     ]
    }
   ],
   "source": [
    "import time \n",
    "x = 10 \n",
    "while x >= 0 :\n",
    "    print(x)\n",
    "    time.sleep(1)\n",
    "    x = x - 1\n",
    "print('FELIZ ANO NOVO!!!!🎆🎆🎆🎆🎆🎆🎆🎇🎇🎇🎇🎇🎆🎆🎆🎉🎉')"
   ]
  },
  {
   "cell_type": "code",
   "execution_count": 20,
   "metadata": {},
   "outputs": [
    {
     "name": "stdout",
     "output_type": "stream",
     "text": [
      "sair bem vindo Arthur\n",
      "sair bem vindo sair\n"
     ]
    }
   ],
   "source": [
    "texto = ''\n",
    "while texto != 'sair' :\n",
    "    texto = input('digite seu nome(\"sair\" para terminar)')\n",
    "    print(f'sair bem vindo {texto}')"
   ]
  },
  {
   "cell_type": "code",
   "execution_count": 2,
   "metadata": {},
   "outputs": [
    {
     "name": "stdout",
     "output_type": "stream",
     "text": [
      "Você esta PRESO tentando hackear a rede\n",
      "FIM\n"
     ]
    }
   ],
   "source": [
    "senha_senai = '12345'\n",
    "nr_tentativas = 0\n",
    "while True :\n",
    "    senha = input('qual é a senha🤔🤔🤔???\"desisto\" para sair' )\n",
    "    if senha == senha_senai :\n",
    "        print('você hackeou a rede')\n",
    "        break\n",
    "    elif senha == 'desisto' :\n",
    "        break\n",
    "    else :\n",
    "        nr_tentativas = nr_tentativas + 1\n",
    "        if nr_tentativas == 3 :\n",
    "            print('Você esta PRESO tentando hackear a rede')\n",
    "            break\n",
    "print('FIM')"
   ]
  },
  {
   "cell_type": "markdown",
   "metadata": {},
   "source": [
    "21/03/2024 - Revisão de While"
   ]
  },
  {
   "cell_type": "code",
   "execution_count": 1,
   "metadata": {},
   "outputs": [
    {
     "name": "stdout",
     "output_type": "stream",
     "text": [
      "FIM\n"
     ]
    }
   ],
   "source": [
    "Resp = 'S'\n",
    "while Resp == 'S' :\n",
    "    Resp = input('Deseja continuar [S/N]')\n",
    "\n",
    "print('FIM')"
   ]
  },
  {
   "cell_type": "code",
   "execution_count": 7,
   "metadata": {},
   "outputs": [
    {
     "name": "stdout",
     "output_type": "stream",
     "text": [
      "você deve pagar R$ 868725171971349888.00\n",
      "a quantidade de produto é 9\n"
     ]
    }
   ],
   "source": [
    "soma = 0 \n",
    "q_produto = 0\n",
    "\n",
    "while True :\n",
    "    valor = float(input('digite o valor (-1 para parar)'))\n",
    "    if valor == -1  :\n",
    "        break\n",
    "    soma = valor + soma \n",
    "    q_produto = q_produto + 1 \n",
    "\n",
    "print (f'você deve pagar R$ {soma:.2f}')\n",
    "print(f'a quantidade de produto é {q_produto}')"
   ]
  },
  {
   "cell_type": "code",
   "execution_count": 10,
   "metadata": {},
   "outputs": [
    {
     "name": "stdout",
     "output_type": "stream",
     "text": [
      "-=-=-=-=-=-=-=-==-==-=-==-=-=-=-=-=-=-==-=-=-=--=-=-=-=-=-=-=-\n",
      "                  🤔 JOGO DA ADIVINHAÇÃO 🤔                  \n",
      "-=-=-=-=-=-=-=-==-==-=-==-=-=-=-=-=-=-==-=-=-=--=-=-=-=-=-=-=-\n",
      "você chutou 40 tente um numero 👆\n",
      "você chutou 70 tente um numero 👇\n",
      "você chutou 60 tente um numero 👇\n",
      "você chutou 50 tente um numero 👇\n",
      "você chutou 45 tente um numero 👇\n",
      "você chutou 45 tente um numero 👇\n",
      "você chutou 41 tente um numero 👆\n",
      "você chutou 42 tente um numero 👆\n",
      "você chutou 43, parabens você acertou 👏\n",
      "fim\n"
     ]
    }
   ],
   "source": [
    "import random\n",
    "nrSorteado = random.randint(1,100)\n",
    "\n",
    "print('-=-=-=-=-=-=-=-==-==-=-==-=-=-=-=-=-=-==-=-=-=--=-=-=-=-=-=-=-')\n",
    "print('                  🤔 JOGO DA ADIVINHAÇÃO 🤔                  ')\n",
    "print('-=-=-=-=-=-=-=-==-==-=-==-=-=-=-=-=-=-==-=-=-=--=-=-=-=-=-=-=-')\n",
    "acertou = False\n",
    "while acertou == False :\n",
    "    chute = int(input('digite um numero emtre 1 e 100 🕵️‍♂️'))\n",
    "    if chute == nrSorteado :\n",
    "        print(f'você chutou {chute}, parabens você acertou 👏')\n",
    "        acertou = True \n",
    "    elif chute > nrSorteado :\n",
    "        print(f'você chutou {chute} tente um numero 👇')\n",
    "    else :\n",
    "        print(f'você chutou {chute} tente um numero 👆')\n",
    "print ('Fim')"
   ]
  },
  {
   "cell_type": "markdown",
   "metadata": {},
   "source": [
    "22/03/2024 - FOR "
   ]
  },
  {
   "cell_type": "code",
   "execution_count": 11,
   "metadata": {},
   "outputs": [
    {
     "name": "stdout",
     "output_type": "stream",
     "text": [
      "0\n",
      "1\n",
      "2\n",
      "3\n",
      "4\n",
      "5\n",
      "6\n",
      "7\n",
      "8\n",
      "9\n"
     ]
    }
   ],
   "source": [
    "for x in range (10) :\n",
    "    print(x)"
   ]
  },
  {
   "cell_type": "code",
   "execution_count": 1,
   "metadata": {},
   "outputs": [
    {
     "name": "stdout",
     "output_type": "stream",
     "text": [
      " Entregando os notebooks \n",
      "pegar o notebook 1\n",
      "pegar o mouse 1\n",
      "entregar o notebook para o(a) arthur\n"
     ]
    },
    {
     "ename": "KeyboardInterrupt",
     "evalue": "Interrupted by user",
     "output_type": "error",
     "traceback": [
      "\u001b[1;31m---------------------------------------------------------------------------\u001b[0m",
      "\u001b[1;31mKeyboardInterrupt\u001b[0m                         Traceback (most recent call last)",
      "Cell \u001b[1;32mIn[1], line 4\u001b[0m\n\u001b[0;32m      2\u001b[0m \u001b[38;5;28;01mfor\u001b[39;00m nr \u001b[38;5;129;01min\u001b[39;00m \u001b[38;5;28mrange\u001b[39m (\u001b[38;5;241m32\u001b[39m) :\n\u001b[0;32m      3\u001b[0m     nr \u001b[38;5;241m=\u001b[39m nr \u001b[38;5;241m+\u001b[39m \u001b[38;5;241m1\u001b[39m\n\u001b[1;32m----> 4\u001b[0m     nome \u001b[38;5;241m=\u001b[39m \u001b[38;5;28;43minput\u001b[39;49m\u001b[43m(\u001b[49m\u001b[38;5;124;43mf\u001b[39;49m\u001b[38;5;124;43m'\u001b[39;49m\u001b[38;5;124;43mquem é o nº \u001b[39;49m\u001b[38;5;132;43;01m{\u001b[39;49;00m\u001b[43mnr\u001b[49m\u001b[38;5;132;43;01m}\u001b[39;49;00m\u001b[38;5;124;43m'\u001b[39;49m\u001b[43m)\u001b[49m\n\u001b[0;32m      5\u001b[0m     presente \u001b[38;5;241m=\u001b[39m \u001b[38;5;28minput\u001b[39m(\u001b[38;5;124mf\u001b[39m\u001b[38;5;124m'\u001b[39m\u001b[38;5;124mO (a)\u001b[39m\u001b[38;5;132;01m{\u001b[39;00mnome\u001b[38;5;132;01m}\u001b[39;00m\u001b[38;5;124m veio para a aula ? [S/N]\u001b[39m\u001b[38;5;124m'\u001b[39m)\n\u001b[0;32m      6\u001b[0m     \u001b[38;5;28;01mif\u001b[39;00m presente \u001b[38;5;241m==\u001b[39m \u001b[38;5;124m'\u001b[39m\u001b[38;5;124mS\u001b[39m\u001b[38;5;124m'\u001b[39m :\n",
      "File \u001b[1;32m~\\AppData\\Local\\Packages\\PythonSoftwareFoundation.Python.3.12_qbz5n2kfra8p0\\LocalCache\\local-packages\\Python312\\site-packages\\ipykernel\\kernelbase.py:1282\u001b[0m, in \u001b[0;36mKernel.raw_input\u001b[1;34m(self, prompt)\u001b[0m\n\u001b[0;32m   1280\u001b[0m     msg \u001b[38;5;241m=\u001b[39m \u001b[38;5;124m\"\u001b[39m\u001b[38;5;124mraw_input was called, but this frontend does not support input requests.\u001b[39m\u001b[38;5;124m\"\u001b[39m\n\u001b[0;32m   1281\u001b[0m     \u001b[38;5;28;01mraise\u001b[39;00m StdinNotImplementedError(msg)\n\u001b[1;32m-> 1282\u001b[0m \u001b[38;5;28;01mreturn\u001b[39;00m \u001b[38;5;28;43mself\u001b[39;49m\u001b[38;5;241;43m.\u001b[39;49m\u001b[43m_input_request\u001b[49m\u001b[43m(\u001b[49m\n\u001b[0;32m   1283\u001b[0m \u001b[43m    \u001b[49m\u001b[38;5;28;43mstr\u001b[39;49m\u001b[43m(\u001b[49m\u001b[43mprompt\u001b[49m\u001b[43m)\u001b[49m\u001b[43m,\u001b[49m\n\u001b[0;32m   1284\u001b[0m \u001b[43m    \u001b[49m\u001b[38;5;28;43mself\u001b[39;49m\u001b[38;5;241;43m.\u001b[39;49m\u001b[43m_parent_ident\u001b[49m\u001b[43m[\u001b[49m\u001b[38;5;124;43m\"\u001b[39;49m\u001b[38;5;124;43mshell\u001b[39;49m\u001b[38;5;124;43m\"\u001b[39;49m\u001b[43m]\u001b[49m\u001b[43m,\u001b[49m\n\u001b[0;32m   1285\u001b[0m \u001b[43m    \u001b[49m\u001b[38;5;28;43mself\u001b[39;49m\u001b[38;5;241;43m.\u001b[39;49m\u001b[43mget_parent\u001b[49m\u001b[43m(\u001b[49m\u001b[38;5;124;43m\"\u001b[39;49m\u001b[38;5;124;43mshell\u001b[39;49m\u001b[38;5;124;43m\"\u001b[39;49m\u001b[43m)\u001b[49m\u001b[43m,\u001b[49m\n\u001b[0;32m   1286\u001b[0m \u001b[43m    \u001b[49m\u001b[43mpassword\u001b[49m\u001b[38;5;241;43m=\u001b[39;49m\u001b[38;5;28;43;01mFalse\u001b[39;49;00m\u001b[43m,\u001b[49m\n\u001b[0;32m   1287\u001b[0m \u001b[43m\u001b[49m\u001b[43m)\u001b[49m\n",
      "File \u001b[1;32m~\\AppData\\Local\\Packages\\PythonSoftwareFoundation.Python.3.12_qbz5n2kfra8p0\\LocalCache\\local-packages\\Python312\\site-packages\\ipykernel\\kernelbase.py:1325\u001b[0m, in \u001b[0;36mKernel._input_request\u001b[1;34m(self, prompt, ident, parent, password)\u001b[0m\n\u001b[0;32m   1322\u001b[0m \u001b[38;5;28;01mexcept\u001b[39;00m \u001b[38;5;167;01mKeyboardInterrupt\u001b[39;00m:\n\u001b[0;32m   1323\u001b[0m     \u001b[38;5;66;03m# re-raise KeyboardInterrupt, to truncate traceback\u001b[39;00m\n\u001b[0;32m   1324\u001b[0m     msg \u001b[38;5;241m=\u001b[39m \u001b[38;5;124m\"\u001b[39m\u001b[38;5;124mInterrupted by user\u001b[39m\u001b[38;5;124m\"\u001b[39m\n\u001b[1;32m-> 1325\u001b[0m     \u001b[38;5;28;01mraise\u001b[39;00m \u001b[38;5;167;01mKeyboardInterrupt\u001b[39;00m(msg) \u001b[38;5;28;01mfrom\u001b[39;00m \u001b[38;5;28;01mNone\u001b[39;00m\n\u001b[0;32m   1326\u001b[0m \u001b[38;5;28;01mexcept\u001b[39;00m \u001b[38;5;167;01mException\u001b[39;00m:\n\u001b[0;32m   1327\u001b[0m     \u001b[38;5;28mself\u001b[39m\u001b[38;5;241m.\u001b[39mlog\u001b[38;5;241m.\u001b[39mwarning(\u001b[38;5;124m\"\u001b[39m\u001b[38;5;124mInvalid Message:\u001b[39m\u001b[38;5;124m\"\u001b[39m, exc_info\u001b[38;5;241m=\u001b[39m\u001b[38;5;28;01mTrue\u001b[39;00m)\n",
      "\u001b[1;31mKeyboardInterrupt\u001b[0m: Interrupted by user"
     ]
    }
   ],
   "source": [
    "print(' Entregando os notebooks ')\n",
    "for nr in range (32) :\n",
    "    nr = nr + 1\n",
    "    nome = input(f'quem é o nº {nr}')\n",
    "    presente = input(f'O (a){nome} veio para a aula ? [S/N]')\n",
    "    if presente == 'S' :\n",
    "        print(f'pegar o notebook {nr}')\n",
    "        print(f'pegar o mouse {nr}')\n",
    "        print(f'entregar o notebook para o(a) {nome}')\n",
    "print('começar a aula')"
   ]
  },
  {
   "cell_type": "code",
   "execution_count": 12,
   "metadata": {},
   "outputs": [
    {
     "name": "stdout",
     "output_type": "stream",
     "text": [
      "5\n",
      "7\n",
      "9\n",
      "11\n",
      "13\n",
      "15\n",
      "17\n",
      "19\n",
      "21\n",
      "23\n",
      "25\n",
      "27\n",
      "29\n"
     ]
    }
   ],
   "source": [
    "for x in range (5, 30, 2 ) : \n",
    "    print(x)"
   ]
  },
  {
   "cell_type": "code",
   "execution_count": 13,
   "metadata": {},
   "outputs": [
    {
     "name": "stdout",
     "output_type": "stream",
     "text": [
      "78 x 0 = 0\n",
      "78 x 1 = 78\n",
      "78 x 2 = 156\n",
      "78 x 3 = 234\n",
      "78 x 4 = 312\n",
      "78 x 5 = 390\n",
      "78 x 6 = 468\n",
      "78 x 7 = 546\n",
      "78 x 8 = 624\n",
      "78 x 9 = 702\n",
      "78 x 10 = 780\n"
     ]
    }
   ],
   "source": [
    "n = int(input('digite seu numero '))\n",
    "for x in range (11) :\n",
    "    print(f'{n} x {x} = {n * x}')"
   ]
  },
  {
   "cell_type": "code",
   "execution_count": 14,
   "metadata": {},
   "outputs": [
    {
     "name": "stdout",
     "output_type": "stream",
     "text": [
      "s\n",
      "e\n",
      "s\n",
      "i\n",
      "/\n",
      "s\n",
      "e\n",
      "n\n",
      "a\n",
      "i\n",
      "FIM\n"
     ]
    }
   ],
   "source": [
    "for letra in 'sesi/senai' :\n",
    "    print (letra)\n",
    "print('FIM')"
   ]
  },
  {
   "cell_type": "code",
   "execution_count": 33,
   "metadata": {},
   "outputs": [
    {
     "name": "stdout",
     "output_type": "stream",
     "text": [
      "0\n",
      "1\n",
      "2\n",
      "3\n",
      "4\n",
      "5\n",
      "6\n",
      "7\n",
      "8\n",
      "9\n"
     ]
    }
   ],
   "source": [
    "for x in range (100) :\n",
    "     if x == 10 : \n",
    "          break\n",
    "     print(x)"
   ]
  },
  {
   "cell_type": "markdown",
   "metadata": {},
   "source": [
    "28/03/2024 - variavel composta"
   ]
  },
  {
   "cell_type": "code",
   "execution_count": 27,
   "metadata": {},
   "outputs": [
    {
     "name": "stdout",
     "output_type": "stream",
     "text": [
      "['Maça', 'Banana', 'Abacaxi', 'Uva']\n",
      "Maça\n"
     ]
    }
   ],
   "source": [
    "fruta = ['Maça', 'Banana', 'Abacaxi', 'Uva']\n",
    "print(fruta)\n",
    "print(fruta[0])\n",
    "\n",
    "#Declaração de lista vazia \n",
    "lista_vazia =[]\n",
    "\n",
    "#declaração de lista numero\n",
    "lista_numero = [1, 2, 5, 56, 89]\n",
    "\n",
    "#declaração de lista de nome \n",
    "lista_nome = ['Ricardo', 'lucas', 'Arthur']\n",
    "\n",
    "#Declaração lista mista \n",
    "lixta_mista = ['Arthur', '15', True ]"
   ]
  },
  {
   "cell_type": "code",
   "execution_count": 1,
   "metadata": {},
   "outputs": [
    {
     "name": "stdout",
     "output_type": "stream",
     "text": [
      "['Maça', 'Banana', 'Abacaxi', 'Melancia']\n",
      "['Maça', 'Banana', 'Abacaxi', 'Melancia', 'Laranja']\n",
      "['Maça', 'Banana', 'Morango', 'Abacaxi', 'Melancia', 'Laranja']\n",
      "['Maça', 'Banana', 'Melancia']\n"
     ]
    }
   ],
   "source": [
    "fruta = ['Maça', 'Banana', 'Abacaxi', 'Uva']\n",
    "#Alterar o valor da lista\n",
    "fruta[3] = 'Melancia'\n",
    "print(fruta )\n",
    "#incluindo novo item no final da lista \n",
    "fruta.append('Laranja')\n",
    "print(fruta)\n",
    "\n",
    "#incluindo novo item em uma posição espesifica \n",
    "fruta.insert(2, 'Morango')\n",
    "print(fruta )\n",
    "\n",
    "#tirando um item da lista (del fruta[3] fruta.pop(3))\n",
    "fruta.remove('Abacaxi')\n",
    "#excluindi um unico item da lista \n",
    "fruta.pop()\n",
    "del fruta [2]\n",
    "print(fruta)"
   ]
  },
  {
   "cell_type": "code",
   "execution_count": 2,
   "metadata": {},
   "outputs": [
    {
     "name": "stdout",
     "output_type": "stream",
     "text": [
      "laranja\n",
      "['Maça', 'Banana', 'Morango', 'Abacaxi']\n",
      "['Banana', 'Morango', 'Abacaxi', 'laranja', 'Uva']\n",
      "Uva\n",
      "6\n"
     ]
    }
   ],
   "source": [
    "fruta = ['Maça', 'Banana', 'Morango', 'Abacaxi', 'laranja', 'Uva']\n",
    "print(fruta[4])\n",
    "print(fruta[0:4])\n",
    "print(fruta[1:])\n",
    "print(fruta[-1])\n",
    "print(len(fruta))\n"
   ]
  },
  {
   "cell_type": "code",
   "execution_count": 6,
   "metadata": {},
   "outputs": [
    {
     "name": "stdout",
     "output_type": "stream",
     "text": [
      "['Abacaxi', 'Banana', 'Maça', 'Morango', 'Uva', 'laranja']\n",
      "['laranja', 'Uva', 'Morango', 'Maça', 'Banana', 'Abacaxi']\n"
     ]
    }
   ],
   "source": [
    "#Ordenando de forma cresente\n",
    "fruta.sort()\n",
    "print(fruta)\n",
    "\n",
    "#Ordenando de forma decresente\n",
    "fruta.reverse()\n",
    "print(fruta)"
   ]
  },
  {
   "cell_type": "markdown",
   "metadata": {},
   "source": [
    "04/04/2024 - iteração em lista"
   ]
  },
  {
   "cell_type": "code",
   "execution_count": 7,
   "metadata": {},
   "outputs": [
    {
     "name": "stdout",
     "output_type": "stream",
     "text": [
      "g é uma consoante\n"
     ]
    }
   ],
   "source": [
    "# criando uma lista de vogais\n",
    "vogais = ['a', 'e', 'i', 'o', 'u']\n",
    "letra = input('informe um caracter')\n",
    "#.lower() as letras digitadas fica minusculas\n",
    "#.upper()as letras digitadas fica maiuscula \n",
    "consoantes = ['b', 'c', 'd', 'f', 'g', 'h', 'j', 'k', 'l', 'm', 'n', 'p', 'q', 'r', 's', 't', 'v', 'w', 'x', 'y', 'z' ]\n",
    "numero = ['0', '1', '2', '3', '4', '5', '6', '7', '8', '9']\n",
    "if letra. lower() in vogais :\n",
    "    print(f'{letra} é uma vogal')\n",
    "elif letra. lower() in consoantes:\n",
    "    print(f'{letra} é uma consoante')\n",
    "else:\n",
    "    print(f'{letra} não é uma letra')"
   ]
  },
  {
   "cell_type": "code",
   "execution_count": 4,
   "metadata": {},
   "outputs": [
    {
     "name": "stdout",
     "output_type": "stream",
     "text": [
      "Pelé\n",
      "Maradona\n",
      "Messi\n",
      "CR7\n"
     ]
    }
   ],
   "source": [
    "listanome = ['Pelé', 'Maradona', 'Messi', 'CR7']\n",
    "for nome in listanome:\n",
    "    print(nome)\n",
    "\n",
    "\n"
   ]
  },
  {
   "cell_type": "code",
   "execution_count": 36,
   "metadata": {},
   "outputs": [
    {
     "name": "stdout",
     "output_type": "stream",
     "text": [
      "26\n"
     ]
    }
   ],
   "source": [
    "listanrs = [4,6,2,5,9]\n",
    "soma = 0\n",
    "for nr in listanrs:\n",
    "    soma = soma + nr\n",
    "print(soma)\n"
   ]
  }
 ],
 "metadata": {
  "kernelspec": {
   "display_name": "Python 3",
   "language": "python",
   "name": "python3"
  },
  "language_info": {
   "codemirror_mode": {
    "name": "ipython",
    "version": 3
   },
   "file_extension": ".py",
   "mimetype": "text/x-python",
   "name": "python",
   "nbconvert_exporter": "python",
   "pygments_lexer": "ipython3",
   "version": "3.12.3"
  }
 },
 "nbformat": 4,
 "nbformat_minor": 2
}
