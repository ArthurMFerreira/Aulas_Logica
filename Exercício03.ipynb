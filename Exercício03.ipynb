{
 "cells": [
  {
   "cell_type": "markdown",
   "metadata": {},
   "source": [
    "Dias da semana "
   ]
  },
  {
   "cell_type": "code",
   "execution_count": 18,
   "metadata": {},
   "outputs": [
    {
     "name": "stdout",
     "output_type": "stream",
     "text": [
      "hoje é Quinta - feira\n"
     ]
    }
   ],
   "source": [
    "Diadasemana = int(input('digite numero de 1 a 7')) \n",
    "match Diadasemana :\n",
    "    case 1 :\n",
    "        print('hoje é domingo')\n",
    "    case 2 :\n",
    "        print('hoje é Segunda - feira')\n",
    "    case 3 :\n",
    "        print('hoje é Terça - feira')\n",
    "    case 4 :\n",
    "        print('hoje é Quarta - feira')\n",
    "    case 5 :\n",
    "        print('hoje é Quinta - feira')\n",
    "    case 6 :\n",
    "        print('hoje é Sexta - feira')\n",
    "    case 7 :\n",
    "        print('hoje é Sabado')\n",
    "    case _ :\n",
    "        print('digitou uma informação errada')"
   ]
  },
  {
   "cell_type": "markdown",
   "metadata": {},
   "source": [
    "Idade "
   ]
  },
  {
   "cell_type": "code",
   "execution_count": 22,
   "metadata": {},
   "outputs": [
    {
     "name": "stdout",
     "output_type": "stream",
     "text": [
      "você é adulto\n"
     ]
    }
   ],
   "source": [
    "ano_atual = int(input('digite o ano atual'))\n",
    "ano_nascimento = int(input('digite  0 ano que você nasceu'))\n",
    "idade = ano_atual - ano_nascimento\n",
    "if idade <= 10  :\n",
    "    print('você é criança')\n",
    "elif idade > 10 and idade < 18 :\n",
    "        print('você é adolescente')\n",
    "elif idade > 17 and idade < 60 :\n",
    "        print('você é adulto')\n",
    "else :\n",
    "          print('você é idoso')\n",
    "    "
   ]
  },
  {
   "cell_type": "markdown",
   "metadata": {},
   "source": [
    "més "
   ]
  },
  {
   "cell_type": "code",
   "execution_count": 8,
   "metadata": {},
   "outputs": [
    {
     "name": "stdout",
     "output_type": "stream",
     "text": [
      "31 dias\n"
     ]
    }
   ],
   "source": [
    "nome_do_més = input('digite o nome do més')\n",
    "match nome_do_més.upper() :\n",
    "    case 'JANEIRO' :\n",
    "        print('31 dias')\n",
    "    case 'FEVEREIRO':\n",
    "        print('28 dias')\n",
    "    case 'MARÇO':\n",
    "        print('31 dias')\n",
    "    case 'ABRIL':\n",
    "        print('30 dias')\n",
    "    case 'MAIO':\n",
    "        print('31 dias')\n",
    "    case 'JUNHO':\n",
    "        print('30 dias')\n",
    "    case 'JULHO':\n",
    "        print('31 dias')\n",
    "    case 'AGOSTO':\n",
    "        print('31 dias')\n",
    "    case 'SETENBRO':\n",
    "        print('30 dias')\n",
    "    case 'OUTUBRO':\n",
    "        print('31 dias')\n",
    "    case 'NOVENBRO':\n",
    "        print('30 dias')\n",
    "    case 'DEZENBRO':\n",
    "        print('31 dias')"
   ]
  },
  {
   "cell_type": "markdown",
   "metadata": {},
   "source": [
    "media "
   ]
  },
  {
   "cell_type": "code",
   "execution_count": 14,
   "metadata": {},
   "outputs": [
    {
     "name": "stdout",
     "output_type": "stream",
     "text": [
      "recuperação\n"
     ]
    }
   ],
   "source": [
    "nota1 = int(input('digite a nota 1'))\n",
    "nota2 = int(input('digite a nota 2'))\n",
    "media = (nota1 + nota2)/ 2\n",
    "if media < 5 :\n",
    "    print('reprovado')\n",
    "else :\n",
    "    if media >=5 and media <= 7 :\n",
    "        print('recuperação')\n",
    "    else :\n",
    "        if media > 7 :\n",
    "            print('aprovado ')\n",
    "        "
   ]
  },
  {
   "cell_type": "markdown",
   "metadata": {},
   "source": [
    "salario"
   ]
  },
  {
   "cell_type": "code",
   "execution_count": 28,
   "metadata": {},
   "outputs": [
    {
     "name": "stdout",
     "output_type": "stream",
     "text": [
      "seu novo salario é inf\n"
     ]
    }
   ],
   "source": [
    "salario = float(input(\"digite o salario\"))\n",
    "if salario <= 2000 :\n",
    "    aumento = salario * 0.12\n",
    "elif salario <= 4000 :\n",
    "    aumento = salario * 0.10\n",
    "else :\n",
    "    aumento = salario * 0.08\n",
    "print(f'seu novo salario é {salario + aumento}')"
   ]
  },
  {
   "cell_type": "markdown",
   "metadata": {},
   "source": [
    "Desafil 1"
   ]
  },
  {
   "cell_type": "code",
   "execution_count": 34,
   "metadata": {},
   "outputs": [
    {
     "name": "stdout",
     "output_type": "stream",
     "text": [
      "seu salario liguido sera R$ 2620.00\n"
     ]
    }
   ],
   "source": [
    "salario = float(input(\"digite o salario\"))\n",
    "if salario < 2259 :\n",
    "    desconto_irfp = 0\n",
    "elif salario <= 2826.65 :\n",
    "    desconto_irpf = salario * 0.075\n",
    "elif salario <= 3751.05 :\n",
    "    desconto_irfp = salario * 0.15\n",
    "elif salario <= 4664.68 :\n",
    "    desconto_irfp = salario * 0.225\n",
    "else :\n",
    "    desconto_irfp : salario * 0.275\n",
    "\n",
    "#Considerando atabela do INSS\n",
    "if salario <= 1412 :\n",
    "    desconto_inss = salario * 0.075\n",
    "elif salario <=2666 :\n",
    "    desconto_inss = salario * 0.09\n",
    "elif salario <=4000.03:\n",
    "    desconto_inss = salario * 0.12\n",
    "else :\n",
    "    desconto_inss = salario * 0.14\n",
    "\n",
    "salario_liquido = salario - desconto_irfp - desconto_inss\n",
    "print(f'seu salario liguido sera R$ {salario_liquido:.2f}')"
   ]
  }
 ],
 "metadata": {
  "kernelspec": {
   "display_name": "Python 3",
   "language": "python",
   "name": "python3"
  },
  "language_info": {
   "codemirror_mode": {
    "name": "ipython",
    "version": 3
   },
   "file_extension": ".py",
   "mimetype": "text/x-python",
   "name": "python",
   "nbconvert_exporter": "python",
   "pygments_lexer": "ipython3",
   "version": "3.12.2"
  }
 },
 "nbformat": 4,
 "nbformat_minor": 2
}
