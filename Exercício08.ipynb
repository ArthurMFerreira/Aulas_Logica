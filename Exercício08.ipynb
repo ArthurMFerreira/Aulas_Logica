{
 "cells": [
  {
   "cell_type": "code",
   "execution_count": 1,
   "metadata": {},
   "outputs": [
    {
     "name": "stdout",
     "output_type": "stream",
     "text": [
      "1\n",
      "2\n",
      "3\n",
      "4\n",
      "5\n",
      "6\n",
      "7\n",
      "8\n",
      "9\n",
      "10\n"
     ]
    }
   ],
   "source": [
    "listanmr = [1,2,3,4,5,6,7,8,9,10]\n",
    "for nr in listanmr:\n",
    "    print(nr)"
   ]
  },
  {
   "cell_type": "code",
   "execution_count": 102,
   "metadata": {},
   "outputs": [
    {
     "name": "stdout",
     "output_type": "stream",
     "text": [
      "Arthur\n",
      "Vinicious\n",
      "Felipe\n"
     ]
    }
   ],
   "source": [
    "listanome = ['Arthur', 'Vinicious', 'Felipe']\n",
    "for nome in listanome:\n",
    "    print(nome)"
   ]
  },
  {
   "cell_type": "code",
   "execution_count": 110,
   "metadata": {},
   "outputs": [
    {
     "name": "stdout",
     "output_type": "stream",
     "text": [
      "Janero\n",
      "Junho\n",
      "Julho\n"
     ]
    }
   ],
   "source": [
    "lista  = 'Janero', 'Feverero', 'Março', 'Abril', 'Maio', 'Junho', 'Julho', 'Agosto', 'Setembro', 'Outubro', 'Novenbro', 'Dezemdro'\n",
    "for messes in lista:\n",
    "    if messes[0] == 'J':\n",
    "        print(messes)"
   ]
  },
  {
   "cell_type": "code",
   "execution_count": 45,
   "metadata": {},
   "outputs": [
    {
     "name": "stdout",
     "output_type": "stream",
     "text": [
      "GATO\n",
      "CACHORRO\n",
      "PASSARO\n",
      "PEIXE\n"
     ]
    }
   ],
   "source": [
    "animais = ['gato', 'cachorro', 'passaro', 'peixe']\n",
    "for animal in animais:\n",
    "    print(animal.upper())\n"
   ]
  },
  {
   "cell_type": "code",
   "execution_count": 99,
   "metadata": {},
   "outputs": [
    {
     "name": "stdout",
     "output_type": "stream",
     "text": [
      "5 10\n",
      "10 20\n",
      "15 30\n",
      "20 40\n",
      "25 50\n"
     ]
    }
   ],
   "source": [
    "nrs = 5, 10, 15, 20, 25\n",
    "for nr in nrs:\n",
    "    print(nr , nr *2 )"
   ]
  },
  {
   "cell_type": "code",
   "execution_count": 115,
   "metadata": {},
   "outputs": [
    {
     "name": "stdout",
     "output_type": "stream",
     "text": [
      "-1 9\n"
     ]
    }
   ],
   "source": [
    "listanumero = [1, -1, 7, 5, 9]\n",
    "maiornr = 0\n",
    "menornr = 1000000 \n",
    "for nratual in listanumero :\n",
    "    if nratual > maiornr :\n",
    "        maiornr = nratual\n",
    "    if nratual < menornr :\n",
    "        menornr = nratual\n",
    "print(menornr , maiornr)"
   ]
  },
  {
   "cell_type": "code",
   "execution_count": 116,
   "metadata": {},
   "outputs": [
    {
     "name": "stdout",
     "output_type": "stream",
     "text": [
      "2\n"
     ]
    }
   ],
   "source": [
    "palavra = input('digite uma palavra ')\n",
    "vogais = ['a', 'e', 'i', 'o', 'u']\n",
    "qdeVogual = 0 \n",
    "for letra in palavra :\n",
    "    if letra.lower()in vogais :\n",
    "        qdeVogual = qdeVogual + 1 \n",
    "print(qdeVogual)"
   ]
  }
 ],
 "metadata": {
  "kernelspec": {
   "display_name": "Python 3",
   "language": "python",
   "name": "python3"
  },
  "language_info": {
   "codemirror_mode": {
    "name": "ipython",
    "version": 3
   },
   "file_extension": ".py",
   "mimetype": "text/x-python",
   "name": "python",
   "nbconvert_exporter": "python",
   "pygments_lexer": "ipython3",
   "version": "3.12.3"
  }
 },
 "nbformat": 4,
 "nbformat_minor": 2
}
