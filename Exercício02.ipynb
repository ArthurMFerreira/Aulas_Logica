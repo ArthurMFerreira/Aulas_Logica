{
 "cells": [
  {
   "cell_type": "markdown",
   "metadata": {},
   "source": [
    "01/03/2024"
   ]
  },
  {
   "cell_type": "code",
   "execution_count": 2,
   "metadata": {},
   "outputs": [
    {
     "name": "stdout",
     "output_type": "stream",
     "text": [
      "você esta aprovado\n"
     ]
    }
   ],
   "source": [
    "nota1 = float(input('digite a nota1'))\n",
    "nota2 = float(input('digite a sota2'))\n",
    "media =(nota1 + nota2) / 2\n",
    "if media >= 7:\n",
    "    print('você esta aprovado')\n",
    "else :\n",
    "    print('você esta reprovado')"
   ]
  },
  {
   "cell_type": "code",
   "execution_count": null,
   "metadata": {},
   "outputs": [],
   "source": [
    "n1 = int(input('digite n1'))\n",
    "n2 = int(input('digite n2'))\n",
    "if n1 > n2 :\n",
    "    print('n1 maior que n2')\n",
    "else\n",
    "    print('n1 menor que n2')"
   ]
  },
  {
   "cell_type": "code",
   "execution_count": null,
   "metadata": {},
   "outputs": [],
   "source": [
    "nr = int(input('Digite um numero'))\n",
    "resto = nr % 2 ==0\n"
   ]
  }
 ],
 "metadata": {
  "kernelspec": {
   "display_name": "Python 3",
   "language": "python",
   "name": "python3"
  },
  "language_info": {
   "codemirror_mode": {
    "name": "ipython",
    "version": 3
   },
   "file_extension": ".py",
   "mimetype": "text/x-python",
   "name": "python",
   "nbconvert_exporter": "python",
   "pygments_lexer": "ipython3",
   "version": "3.12.2"
  }
 },
 "nbformat": 4,
 "nbformat_minor": 2
}
