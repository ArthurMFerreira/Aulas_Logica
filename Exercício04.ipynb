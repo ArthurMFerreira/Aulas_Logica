{
 "cells": [
  {
   "cell_type": "code",
   "execution_count": 4,
   "metadata": {},
   "outputs": [
    {
     "name": "stdout",
     "output_type": "stream",
     "text": [
      "2 é par\n",
      "4 é par\n",
      "6 é par\n",
      "8 é par\n",
      "10 é par\n",
      "12 é par\n",
      "14 é par\n",
      "16 é par\n",
      "18 é par\n",
      "20 é par\n"
     ]
    }
   ],
   "source": [
    "x = 1\n",
    "while x <= 20:\n",
    "    if x % 2 == 0 :\n",
    "        print(f'{x} é par')\n",
    "    x = x + 1 \n"
   ]
  },
  {
   "cell_type": "code",
   "execution_count": 113,
   "metadata": {},
   "outputs": [
    {
     "name": "stdout",
     "output_type": "stream",
     "text": [
      "10\n",
      "13\n",
      "20\n",
      "42\n",
      "28\n",
      "35\n"
     ]
    }
   ],
   "source": [
    "import random\n",
    "x = 1\n",
    "while x <= 6 :\n",
    "    nr = random.randint(1,60) \n",
    "    print(nr)\n",
    "    x = x + 1 \n",
    "\n"
   ]
  },
  {
   "cell_type": "code",
   "execution_count": 114,
   "metadata": {},
   "outputs": [
    {
     "name": "stdout",
     "output_type": "stream",
     "text": [
      "a soma é 53 são 5 pares e 5 inpares \n"
     ]
    }
   ],
   "source": [
    "soma = 0 \n",
    "qtdePar = 0 \n",
    "qtdeImpar = 0\n",
    "\n",
    "while True : \n",
    "    nr = int(input('digite o valor. (0 para encerrar)'))\n",
    "    if nr == 0 :\n",
    "        break\n",
    "    if nr % 2 == 0 :\n",
    "        qtdePar += 1\n",
    "    if nr % 2 == 1:\n",
    "        qtdeImpar += 1 \n",
    "    soma += nr \n",
    "print(f\"a soma é {soma} são {qtdePar} pares e {qtdeImpar} inpares \") "
   ]
  },
  {
   "cell_type": "code",
   "execution_count": null,
   "metadata": {},
   "outputs": [],
   "source": []
  }
 ],
 "metadata": {
  "kernelspec": {
   "display_name": "Python 3",
   "language": "python",
   "name": "python3"
  },
  "language_info": {
   "codemirror_mode": {
    "name": "ipython",
    "version": 3
   },
   "file_extension": ".py",
   "mimetype": "text/x-python",
   "name": "python",
   "nbconvert_exporter": "python",
   "pygments_lexer": "ipython3",
   "version": "3.12.3"
  }
 },
 "nbformat": 4,
 "nbformat_minor": 2
}
