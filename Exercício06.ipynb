{
 "cells": [
  {
   "cell_type": "code",
   "execution_count": 36,
   "metadata": {},
   "outputs": [
    {
     "name": "stdout",
     "output_type": "stream",
     "text": [
      "1\n",
      "3\n",
      "5\n",
      "7\n",
      "9\n",
      "11\n",
      "13\n",
      "15\n",
      "17\n",
      "19\n",
      "21\n",
      "23\n",
      "25\n",
      "27\n",
      "29\n",
      "31\n",
      "33\n",
      "35\n",
      "37\n",
      "39\n"
     ]
    }
   ],
   "source": [
    "for x in range (40) :\n",
    "    if x % 2 != 0  :\n",
    "        print(x)\n",
    "\n"
   ]
  },
  {
   "cell_type": "code",
   "execution_count": 62,
   "metadata": {},
   "outputs": [
    {
     "name": "stdout",
     "output_type": "stream",
     "text": [
      "3\n",
      "35\n",
      "12\n",
      "49\n",
      "27\n",
      "12\n"
     ]
    }
   ],
   "source": [
    "import random\n",
    "\n",
    "for nrsorteado in range (1, 7) :\n",
    "    nrsorteado = random.randint (1, 60)\n",
    "    print(nrsorteado)\n",
    "\n"
   ]
  },
  {
   "cell_type": "code",
   "execution_count": 64,
   "metadata": {},
   "outputs": [
    {
     "name": "stdout",
     "output_type": "stream",
     "text": [
      " soma total é 20, você digitou 2 par, você digitou 1 impar\n"
     ]
    }
   ],
   "source": [
    "soma  = 0\n",
    "par = 0 \n",
    "impar = 0\n",
    "for nr in range (5) :\n",
    "    nr = int (input('digite um numero '))\n",
    "    soma = soma + nr \n",
    "    if nr % 2 == 0 :\n",
    "        par = par + 1\n",
    "else : \n",
    "    impar = impar + 1 \n",
    "print(f' soma total é {soma}, você digitou {par} par, você digitou {impar} impar')\n",
    "\n",
    "\n"
   ]
  },
  {
   "cell_type": "code",
   "execution_count": 67,
   "metadata": {},
   "outputs": [
    {
     "name": "stdout",
     "output_type": "stream",
     "text": [
      "1\n",
      "4\n",
      "7\n",
      "10\n",
      "13\n",
      "16\n",
      "19\n",
      "22\n",
      "25\n",
      "28\n",
      "31\n",
      "34\n",
      "37\n",
      "40\n",
      "43\n",
      "46\n",
      "49\n",
      "52\n",
      "55\n",
      "58\n",
      "61\n",
      "64\n",
      "67\n",
      "70\n",
      "73\n",
      "76\n",
      "79\n",
      "82\n",
      "85\n",
      "88\n"
     ]
    }
   ],
   "source": [
    "inicio = int(input('digite o valor inicial'))\n",
    "fim = int(input('digite o valor final'))\n",
    "passo = int(input('digite o passo'))\n",
    "for x in range(inicio, fim, passo ) :\n",
    "    print(x)"
   ]
  },
  {
   "cell_type": "code",
   "execution_count": 68,
   "metadata": {},
   "outputs": [
    {
     "name": "stdout",
     "output_type": "stream",
     "text": [
      "Media das mulheres21.5\n",
      "Media das homens 27.0\n",
      "Media do grupo 36.0\n"
     ]
    }
   ],
   "source": [
    "soma_mulher = 0\n",
    "soma_homens = 0\n",
    "qtde_mulher = 0\n",
    "qtde_homens = 0\n",
    "for x in range(5):\n",
    "    idade = int(input('digite a idade'))\n",
    "    sexo = input('digite o sexo[F/M]')\n",
    "    if sexo == 'F' :\n",
    "        soma_mulher = soma_mulher + idade\n",
    "        qtde_mulher = qtde_mulher + 1\n",
    "else : \n",
    "    soma_homens = soma_homens + idade \n",
    "    qtde_homens = qtde_homens + 1\n",
    "print(f\"Media das mulheres {soma_mulher / qtde_mulher}\")\n",
    "print(f\"Media das homens {soma_homens / qtde_homens}\")\n",
    "print(f\"Media do grupo {(soma_mulher + soma_homens) / (qtde_mulher) + (qtde_homens)}\")\n",
    "\n"
   ]
  },
  {
   "cell_type": "code",
   "execution_count": 71,
   "metadata": {},
   "outputs": [
    {
     "name": "stdout",
     "output_type": "stream",
     "text": [
      "7\n",
      "14\n",
      "21\n",
      "28\n",
      "35\n",
      "42\n",
      "49\n",
      "56\n",
      "63\n",
      "70\n",
      "77\n",
      "84\n",
      "91\n",
      "98\n"
     ]
    }
   ],
   "source": [
    "for nr in range(5, 100) :\n",
    "    if nr % 7 == 0 :\n",
    "        print(nr)"
   ]
  },
  {
   "cell_type": "code",
   "execution_count": 74,
   "metadata": {},
   "outputs": [
    {
     "name": "stdout",
     "output_type": "stream",
     "text": [
      "s\n",
      "us\n",
      "bus\n",
      "ibus\n",
      "nibus\n",
      "onibus\n",
      " onibus\n",
      "n onibus\n",
      "on onibus\n",
      " on onibus\n",
      "o on onibus\n",
      "no on onibus\n",
      "ino on onibus\n",
      "bino on onibus\n",
      "ubino on onibus\n",
      "subino on onibus\n",
      " subino on onibus\n",
      "  subino on onibus\n"
     ]
    }
   ],
   "source": [
    "palavra = input('digite uma palavra')\n",
    "nova_palavra = ''\n",
    "for letra in palavra :\n",
    "    nova_palavra =  letra + nova_palavra \n",
    "    print(nova_palavra)"
   ]
  }
 ],
 "metadata": {
  "kernelspec": {
   "display_name": "Python 3",
   "language": "python",
   "name": "python3"
  },
  "language_info": {
   "codemirror_mode": {
    "name": "ipython",
    "version": 3
   },
   "file_extension": ".py",
   "mimetype": "text/x-python",
   "name": "python",
   "nbconvert_exporter": "python",
   "pygments_lexer": "ipython3",
   "version": "3.12.3"
  }
 },
 "nbformat": 4,
 "nbformat_minor": 2
}
