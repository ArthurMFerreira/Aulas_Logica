{
 "cells": [
  {
   "cell_type": "markdown",
   "metadata": {},
   "source": [
    "00 - Faça um programa que leia algo pelo teclado e mostre na\n",
    "tela o seu tipo primitivo."
   ]
  },
  {
   "cell_type": "code",
   "execution_count": 9,
   "metadata": {},
   "outputs": [
    {
     "name": "stdout",
     "output_type": "stream",
     "text": [
      "<class 'int'>\n"
     ]
    }
   ],
   "source": [
    "print(type(475))"
   ]
  },
  {
   "cell_type": "markdown",
   "metadata": {},
   "source": [
    "01 - Crie um programa que leia dois números e mostre a soma\n",
    "entre eles."
   ]
  },
  {
   "cell_type": "code",
   "execution_count": null,
   "metadata": {},
   "outputs": [],
   "source": [
    "print(  +  )"
   ]
  },
  {
   "cell_type": "markdown",
   "metadata": {},
   "source": [
    "02 - Crie um programa que leia um número inteiro e mostre na\n",
    "tela o seu sucessor e antecessor."
   ]
  },
  {
   "cell_type": "code",
   "execution_count": 10,
   "metadata": {},
   "outputs": [
    {
     "name": "stdout",
     "output_type": "stream",
     "text": [
      "o antecessor é 7, o sucessor é 9\n"
     ]
    }
   ],
   "source": [
    "Numero = int(input(\"qual é o número\"))\n",
    "antecessor = Numero - 1\n",
    "sucessor = Numero + 1\n",
    "print(f\"o antecessor é {antecessor}, o sucessor é {sucessor}\")"
   ]
  },
  {
   "cell_type": "markdown",
   "metadata": {},
   "source": [
    "03 - Crie um programa que leia um número e mostre o seu\n",
    "dobro, triplo e raiz quadrada."
   ]
  },
  {
   "cell_type": "code",
   "execution_count": 12,
   "metadata": {},
   "outputs": [
    {
     "name": "stdout",
     "output_type": "stream",
     "text": [
      "O dobro é 18, o triplo é 27 e a raiz quadrada é 3.0\n"
     ]
    }
   ],
   "source": [
    "Numero = int(input(\"qual o número\"))\n",
    "dobro = Numero * 2\n",
    "triplo = Numero * 3\n",
    "raiz_quadreda = Numero ** 0.5\n",
    "print(f\"O dobro é {dobro}, o triplo é {triplo} e a raiz quadrada é {raiz_quadreda}\")"
   ]
  },
  {
   "cell_type": "markdown",
   "metadata": {},
   "source": [
    "04 - Crie um programa que leia duas notas de um aluno, calcule\n",
    "e mostre sua média."
   ]
  },
  {
   "cell_type": "code",
   "execution_count": 14,
   "metadata": {},
   "outputs": [
    {
     "name": "stdout",
     "output_type": "stream",
     "text": [
      "A media é 6.0\n"
     ]
    }
   ],
   "source": [
    "Nota1 = float(input(\"Qual é a primeira nota\"))\n",
    "Nota2 = float(input(\"Qual a segunda nota \"))\n",
    "Media = Nota1 + Nota2 / 2\n",
    "print(f\"A media é {Media}\")"
   ]
  },
  {
   "cell_type": "markdown",
   "metadata": {},
   "source": [
    "05 - Crie um programa que leia o valor em metros e o exiba\n",
    "convertido em centímetros e milímetros."
   ]
  },
  {
   "cell_type": "code",
   "execution_count": 17,
   "metadata": {},
   "outputs": [
    {
     "name": "stdout",
     "output_type": "stream",
     "text": [
      "Em centimrtro 4500.0 e em milimetro 450000.0\n"
     ]
    }
   ],
   "source": [
    "Numero = float(input(\"Qual, o numero\"))\n",
    "centimetro = Numero * 1000\n",
    "milimetro = Numero * 100000\n",
    "print(f'Em centimrtro {centimetro} e em milimetro {milimetro}')"
   ]
  },
  {
   "cell_type": "markdown",
   "metadata": {},
   "source": [
    "06 - Crie um programa que leia um numero qualquer e mostre\n",
    "na tela a sua tabuada."
   ]
  },
  {
   "cell_type": "code",
   "execution_count": 20,
   "metadata": {},
   "outputs": [
    {
     "name": "stdout",
     "output_type": "stream",
     "text": [
      "58.0 X 1 = 58.0\n",
      "58.0 X 2 = 116.0\n",
      "58.0 X 3 = 174.0\n",
      "58.0 X 4 = 232.0\n",
      "58.0 X 5 = 290.0\n",
      "58.0 X 6 = 348.0\n",
      "58.0 X 7 = 406.0\n",
      "58.0 X 8 = 464.0\n",
      "58.0 X 9 = 522.0\n",
      "58.0 X 10 = 580.0\n"
     ]
    }
   ],
   "source": [
    "Numero = float(input(\"qual o numero\"))\n",
    "print(f\"{Numero} X 1 = {Numero * 1}\")\n",
    "print(f\"{Numero} X 2 = {Numero * 2}\")\n",
    "print(f\"{Numero} X 3 = {Numero * 3}\")\n",
    "print(f\"{Numero} X 4 = {Numero * 4}\")\n",
    "print(f\"{Numero} X 5 = {Numero * 5}\")\n",
    "print(f\"{Numero} X 6 = {Numero * 6}\")\n",
    "print(f\"{Numero} X 7 = {Numero * 7}\")\n",
    "print(f\"{Numero} X 8 = {Numero * 8}\")\n",
    "print(f\"{Numero} X 9 = {Numero * 9}\")\n",
    "print(f\"{Numero} X 10 = {Numero * 10}\")"
   ]
  }
 ],
 "metadata": {
  "kernelspec": {
   "display_name": "Python 3",
   "language": "python",
   "name": "python3"
  },
  "language_info": {
   "codemirror_mode": {
    "name": "ipython",
    "version": 3
   },
   "file_extension": ".py",
   "mimetype": "text/x-python",
   "name": "python",
   "nbconvert_exporter": "python",
   "pygments_lexer": "ipython3",
   "version": "3.12.2"
  }
 },
 "nbformat": 4,
 "nbformat_minor": 2
}
