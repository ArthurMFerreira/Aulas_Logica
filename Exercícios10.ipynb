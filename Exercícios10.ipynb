{
 "cells": [
  {
   "cell_type": "markdown",
   "metadata": {},
   "source": [
    " 1. Escreva uma função que utilize uma variável global para contar o número de vezes que foi chamada. A função deve retornar o número atual de chamadas."
   ]
  },
  {
   "cell_type": "code",
   "execution_count": 4,
   "metadata": {},
   "outputs": [
    {
     "name": "stdout",
     "output_type": "stream",
     "text": [
      "1\n",
      "2\n",
      "3\n"
     ]
    }
   ],
   "source": [
    "quant = 0\n",
    "def vezes () :\n",
    "    global quant\n",
    "    quant = quant + 1 \n",
    "    print (quant)\n",
    "            \n",
    "vezes()           \n",
    "vezes()        \n",
    "vezes()        \n",
    "    "
   ]
  },
  {
   "cell_type": "markdown",
   "metadata": {},
   "source": [
    "2. Crie um algoritmo que receba em variável global o valor atual do dólar e do euro, crie uma função que receba o valor a ser convertido e imprima a conversão em dólar e em euro"
   ]
  },
  {
   "cell_type": "code",
   "execution_count": 6,
   "metadata": {},
   "outputs": [
    {
     "name": "stdout",
     "output_type": "stream",
     "text": [
      "reais convertidi para euro 458.72\n",
      "reais comvretido para dolar 487.33\n"
     ]
    }
   ],
   "source": [
    "euro = 5.45\n",
    "dolar = 5.13\n",
    "def conversa0(real) :\n",
    "    global euro, dolar\n",
    "\n",
    "\n",
    "    print(f'reais convertidi para euro {real/euro:.2f}')\n",
    "    print(f'reais comvretido para dolar {real / dolar:.2f}')\n",
    "\n",
    "conversa0(2500)\n"
   ]
  },
  {
   "cell_type": "code",
   "execution_count": 8,
   "metadata": {},
   "outputs": [
    {
     "name": "stdout",
     "output_type": "stream",
     "text": [
      "['Arthur']\n",
      "['Arthur', 'fefe']\n",
      "['Arthur']\n"
     ]
    }
   ],
   "source": [
    "lista_nome = []\n",
    "\n",
    "def adicionar (nome) :\n",
    "    lista_nome.append(nome)\n",
    "    print(lista_nome)\n",
    "\n",
    "def remover(nome) :\n",
    "    lista_nome.remove(nome)\n",
    "    print(lista_nome)\n",
    "\n",
    "\n",
    "adicionar('Arthur')\n",
    "adicionar('fefe')    \n",
    "remover('fefe')"
   ]
  },
  {
   "cell_type": "code",
   "execution_count": 15,
   "metadata": {},
   "outputs": [
    {
     "name": "stdout",
     "output_type": "stream",
     "text": [
      "Menu\n",
      "[1] Depositar\n",
      "[2]Sacar\n",
      "[3]Consultar\n",
      "[4]Sair\n"
     ]
    }
   ],
   "source": [
    "saldo = 0 \n",
    "def depositar(valor) :\n",
    "    global saldo \n",
    "    saldo = saldo + valor\n",
    "\n",
    "def sacar(valor) :\n",
    "    global saldo\n",
    "    saldo = saldo - valor\n",
    "\n",
    "\n",
    "def consultarSaldo() :\n",
    "    print(f'seu saldo da conta é R$ {saldo :.2f}')\n",
    "\n",
    "\n",
    "print('Menu')\n",
    "print('[1] Depositar')\n",
    "print('[2]Sacar')\n",
    "print('[3]Consultar')\n",
    "print('[4]Sair')\n",
    "\n",
    "while True :\n",
    "    opcao = input('Digite a opcao do menu')\n",
    "    if opcao == '1'  :\n",
    "        valor = float (input('insira o valor a depositar '))\n",
    "        \n",
    "    if opcao == '2'  :\n",
    "        valor = float (input('insira o valor a sacar '))\n",
    "\n",
    "    if opcao == '3'  :\n",
    "        valor = float (input('insira o valor a consultar '))\n",
    "\n",
    "    else :\n",
    "        break"
   ]
  },
  {
   "cell_type": "code",
   "execution_count": 19,
   "metadata": {},
   "outputs": [
    {
     "name": "stdout",
     "output_type": "stream",
     "text": [
      "$$$$$$$$$$$$$$$$$$$$\n",
      "$$$$$$$$$$$$$$$$$$$$\n",
      "$$$$$$$$$$$$$$$$$$$$\n",
      "$$$$$$$$$$$$$$$$$$$$\n",
      "$$$$$$$$$$$$$$$$$$$$\n",
      "$$$$$$$$$$$$$$$$$$$$\n",
      "$$$$$$$$$$$$$$$$$$$$\n",
      "$$$$$$$$$$$$$$$$$$$$\n",
      "$$$$$$$$$$$$$$$$$$$$\n",
      "$$$$$$$$$$$$$$$$$$$$\n"
     ]
    }
   ],
   "source": [
    "caracter = '$'\n",
    "def desenharForma(l, a) :\n",
    "    global caracter\n",
    "    for i in range(a) :\n",
    "        print(caracter * l)\n",
    "\n",
    "desenharForma( 20, 10) "
   ]
  }
 ],
 "metadata": {
  "kernelspec": {
   "display_name": "Python 3",
   "language": "python",
   "name": "python3"
  },
  "language_info": {
   "codemirror_mode": {
    "name": "ipython",
    "version": 3
   },
   "file_extension": ".py",
   "mimetype": "text/x-python",
   "name": "python",
   "nbconvert_exporter": "python",
   "pygments_lexer": "ipython3",
   "version": "3.12.3"
  }
 },
 "nbformat": 4,
 "nbformat_minor": 2
}
